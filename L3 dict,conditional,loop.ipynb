{
 "cells": [
  {
   "cell_type": "code",
   "execution_count": 1,
   "id": "60eafcd8-ea5a-4a58-af2b-d8f9d7b620c0",
   "metadata": {},
   "outputs": [],
   "source": [
    "# DICTIONARY"
   ]
  },
  {
   "cell_type": "code",
   "execution_count": null,
   "id": "da6ed866-a7ed-47ab-997b-d748b3fd4d9c",
   "metadata": {},
   "outputs": [],
   "source": []
  },
  {
   "cell_type": "code",
   "execution_count": 2,
   "id": "1cc538be-7e95-41bf-a36c-8b19aefa84d7",
   "metadata": {},
   "outputs": [],
   "source": [
    "d={}"
   ]
  },
  {
   "cell_type": "code",
   "execution_count": 3,
   "id": "a7bb89c0-947b-4655-ad26-f5531034ced6",
   "metadata": {},
   "outputs": [
    {
     "data": {
      "text/plain": [
       "dict"
      ]
     },
     "execution_count": 3,
     "metadata": {},
     "output_type": "execute_result"
    }
   ],
   "source": [
    "type(d)"
   ]
  },
  {
   "cell_type": "code",
   "execution_count": 4,
   "id": "46f56d16-7609-4547-ab74-044fe6fe5d8b",
   "metadata": {},
   "outputs": [],
   "source": [
    "# lenear elemet ==> set {1,2,3}\n",
    "# key value pair==> dict{1:\"ram\"}"
   ]
  },
  {
   "cell_type": "code",
   "execution_count": 5,
   "id": "6508e1f0-b7ea-4a9e-a265-bdd9a63634ae",
   "metadata": {},
   "outputs": [],
   "source": [
    "d1={'key':\"sudh\"}"
   ]
  },
  {
   "cell_type": "code",
   "execution_count": 6,
   "id": "ee8f9941-e378-4545-a9ee-92fbdf80501c",
   "metadata": {},
   "outputs": [
    {
     "data": {
      "text/plain": [
       "{'key': 'sudh'}"
      ]
     },
     "execution_count": 6,
     "metadata": {},
     "output_type": "execute_result"
    }
   ],
   "source": [
    "d1"
   ]
  },
  {
   "cell_type": "code",
   "execution_count": 7,
   "id": "2e00d2c7-6447-4eaf-9148-1ca07806d403",
   "metadata": {},
   "outputs": [],
   "source": [
    "d2={\"name\":\"navneet singh\", \"email\":\"xxxxx@gmail.com\",\"number\":45583974}"
   ]
  },
  {
   "cell_type": "code",
   "execution_count": 8,
   "id": "5b1da74f-206e-49bf-92cc-2459f1689a8b",
   "metadata": {},
   "outputs": [
    {
     "data": {
      "text/plain": [
       "{'name': 'navneet singh', 'email': 'xxxxx@gmail.com', 'number': 45583974}"
      ]
     },
     "execution_count": 8,
     "metadata": {},
     "output_type": "execute_result"
    }
   ],
   "source": [
    "d2"
   ]
  },
  {
   "cell_type": "code",
   "execution_count": 10,
   "id": "695563c0-791f-4d2e-ae3d-28b4704fc46b",
   "metadata": {},
   "outputs": [
    {
     "ename": "SyntaxError",
     "evalue": "invalid syntax (3567442681.py, line 1)",
     "output_type": "error",
     "traceback": [
      "\u001b[0;36m  Cell \u001b[0;32mIn[10], line 1\u001b[0;36m\u001b[0m\n\u001b[0;31m    d3={234 : \"nav\" , @wer : \"singh\"}\u001b[0m\n\u001b[0m                      ^\u001b[0m\n\u001b[0;31mSyntaxError\u001b[0m\u001b[0;31m:\u001b[0m invalid syntax\n"
     ]
    }
   ],
   "source": [
    "d3={234 : \"nav\" , @wer : \"singh\"}"
   ]
  },
  {
   "cell_type": "code",
   "execution_count": 11,
   "id": "a48cf6fc-708b-47f6-9fd7-e4afe5f91a0d",
   "metadata": {},
   "outputs": [
    {
     "ename": "NameError",
     "evalue": "name '_wer' is not defined",
     "output_type": "error",
     "traceback": [
      "\u001b[0;31m---------------------------------------------------------------------------\u001b[0m",
      "\u001b[0;31mNameError\u001b[0m                                 Traceback (most recent call last)",
      "Cell \u001b[0;32mIn[11], line 1\u001b[0m\n\u001b[0;32m----> 1\u001b[0m d3 \u001b[38;5;241m=\u001b[39m{\u001b[38;5;241m234\u001b[39m : \u001b[38;5;124m\"\u001b[39m\u001b[38;5;124mnav\u001b[39m\u001b[38;5;124m\"\u001b[39m , \u001b[43m_wer\u001b[49m : \u001b[38;5;124m\"\u001b[39m\u001b[38;5;124msingh\u001b[39m\u001b[38;5;124m\"\u001b[39m}\n",
      "\u001b[0;31mNameError\u001b[0m: name '_wer' is not defined"
     ]
    }
   ],
   "source": [
    "d3 ={234 : \"nav\" , _wer : \"singh\"}"
   ]
  },
  {
   "cell_type": "code",
   "execution_count": 12,
   "id": "6f982fae-736c-4ad4-9bb8-3b210394515b",
   "metadata": {},
   "outputs": [],
   "source": [
    "# no special character allowed as a key\n",
    "# but in key as a string allowed "
   ]
  },
  {
   "cell_type": "code",
   "execution_count": 15,
   "id": "d9303a1e-1b96-4842-96d4-ad1a200324a2",
   "metadata": {},
   "outputs": [],
   "source": [
    "d3={234 : \"nav\" , \"_&wer\" : \"singh\" , True : 2345}"
   ]
  },
  {
   "cell_type": "code",
   "execution_count": 16,
   "id": "1ddb5788-976d-460f-964b-9e22bc07074f",
   "metadata": {},
   "outputs": [
    {
     "data": {
      "text/plain": [
       "{234: 'nav', '_&wer': 'singh', True: 2345}"
      ]
     },
     "execution_count": 16,
     "metadata": {},
     "output_type": "execute_result"
    }
   ],
   "source": [
    "d3"
   ]
  },
  {
   "cell_type": "code",
   "execution_count": 17,
   "id": "b8b3709e-65e6-4280-ac6e-3557c6eb4206",
   "metadata": {},
   "outputs": [
    {
     "data": {
      "text/plain": [
       "{234: 'nav', '_&wer': 'singh', True: 2345}"
      ]
     },
     "execution_count": 17,
     "metadata": {},
     "output_type": "execute_result"
    }
   ],
   "source": [
    "d3"
   ]
  },
  {
   "cell_type": "code",
   "execution_count": 18,
   "id": "05859277-8d1a-4ea6-b88d-c3eb6744575d",
   "metadata": {},
   "outputs": [],
   "source": [
    "# no concept of indexing\n",
    "# here is concept of key"
   ]
  },
  {
   "cell_type": "code",
   "execution_count": 19,
   "id": "347d00d6-ceb3-4464-8788-f062602da28c",
   "metadata": {},
   "outputs": [
    {
     "data": {
      "text/plain": [
       "'nav'"
      ]
     },
     "execution_count": 19,
     "metadata": {},
     "output_type": "execute_result"
    }
   ],
   "source": [
    "d3[234]"
   ]
  },
  {
   "cell_type": "code",
   "execution_count": 20,
   "id": "7afb8feb-a054-4d27-a1d1-9b08df5ac15b",
   "metadata": {},
   "outputs": [
    {
     "data": {
      "text/plain": [
       "2345"
      ]
     },
     "execution_count": 20,
     "metadata": {},
     "output_type": "execute_result"
    }
   ],
   "source": [
    "d3[True]"
   ]
  },
  {
   "cell_type": "code",
   "execution_count": 23,
   "id": "02bef086-1e26-4569-8d4b-1931bb93dee0",
   "metadata": {},
   "outputs": [
    {
     "data": {
      "text/plain": [
       "2345"
      ]
     },
     "execution_count": 23,
     "metadata": {},
     "output_type": "execute_result"
    }
   ],
   "source": [
    "d3[1]    # here 1 is treated as a \"True\""
   ]
  },
  {
   "cell_type": "code",
   "execution_count": 24,
   "id": "2a429c1b-fc18-44b6-a00e-9dc3c5000c8e",
   "metadata": {},
   "outputs": [],
   "source": [
    "d4 = {\"name\" : \"sudh\" ,\"maio_id\" : \"xxxx@gmail.com\", \"name\" : \"Navneet\"}"
   ]
  },
  {
   "cell_type": "code",
   "execution_count": 25,
   "id": "6929285c-313d-4b38-b24e-da9e5e40f0af",
   "metadata": {},
   "outputs": [
    {
     "data": {
      "text/plain": [
       "{'name': 'Navneet', 'maio_id': 'xxxx@gmail.com'}"
      ]
     },
     "execution_count": 25,
     "metadata": {},
     "output_type": "execute_result"
    }
   ],
   "source": [
    "d4"
   ]
  },
  {
   "cell_type": "code",
   "execution_count": 26,
   "id": "0e9bcaf3-f3ce-4ac5-abee-9d0005e9ef04",
   "metadata": {},
   "outputs": [
    {
     "data": {
      "text/plain": [
       "'Navneet'"
      ]
     },
     "execution_count": 26,
     "metadata": {},
     "output_type": "execute_result"
    }
   ],
   "source": [
    "d4[\"name\"]"
   ]
  },
  {
   "cell_type": "code",
   "execution_count": 27,
   "id": "45816374-f49e-4443-b394-081771bcfd14",
   "metadata": {},
   "outputs": [],
   "source": [
    "# key should be unique otherwise overwrite ho jaiga with new value"
   ]
  },
  {
   "cell_type": "code",
   "execution_count": 29,
   "id": "818b7d50-03cc-495b-9741-c94b80b964d1",
   "metadata": {},
   "outputs": [],
   "source": [
    "d5= {\"company\" : \"pwskills\" , \"course\" : [\"web dev\" ,\"data science\",\"java with dsa system desigh\"]}"
   ]
  },
  {
   "cell_type": "code",
   "execution_count": 30,
   "id": "61095a46-0d94-40a2-b28f-bb21dfd5f59f",
   "metadata": {},
   "outputs": [
    {
     "data": {
      "text/plain": [
       "{'company': 'pwskills',\n",
       " 'course': ['web dev', 'data science', 'java with dsa system desigh']}"
      ]
     },
     "execution_count": 30,
     "metadata": {},
     "output_type": "execute_result"
    }
   ],
   "source": [
    "d5"
   ]
  },
  {
   "cell_type": "code",
   "execution_count": 32,
   "id": "26da7a64-89a7-4dbe-b072-48b38a7fda30",
   "metadata": {},
   "outputs": [
    {
     "data": {
      "text/plain": [
       "['web dev', 'data science', 'java with dsa system desigh']"
      ]
     },
     "execution_count": 32,
     "metadata": {},
     "output_type": "execute_result"
    }
   ],
   "source": [
    "d5[\"course\"]"
   ]
  },
  {
   "cell_type": "code",
   "execution_count": 33,
   "id": "fed25497-d7bc-4b3a-9ad9-dabec0a17403",
   "metadata": {},
   "outputs": [
    {
     "data": {
      "text/plain": [
       "'java with dsa system desigh'"
      ]
     },
     "execution_count": 33,
     "metadata": {},
     "output_type": "execute_result"
    }
   ],
   "source": [
    "d5[\"course\"][2]"
   ]
  },
  {
   "cell_type": "code",
   "execution_count": 36,
   "id": "1871f5a5-26d2-47eb-91a0-508461c361eb",
   "metadata": {},
   "outputs": [],
   "source": [
    "d6 = {\"number\" : [2,34,3,34,34] , \"assignment\": (1,2,3,4,5,6), \"launch_date\":{28,12,14},\"class_time\":{\"web_dev\": 8 ,\"data science master\" : 9 ,\"java with dsa and system design\" : 10}}"
   ]
  },
  {
   "cell_type": "code",
   "execution_count": 37,
   "id": "678fa689-4449-4cdd-bb65-6e81c03412f2",
   "metadata": {},
   "outputs": [],
   "source": [
    "#value can take list,tuple,set,dict,etc"
   ]
  },
  {
   "cell_type": "code",
   "execution_count": 38,
   "id": "38cdd43f-902f-4061-adba-6a5248c7617d",
   "metadata": {},
   "outputs": [
    {
     "data": {
      "text/plain": [
       "{'number': [2, 34, 3, 34, 34],\n",
       " 'assignment': (1, 2, 3, 4, 5, 6),\n",
       " 'launch_date': {12, 14, 28},\n",
       " 'class_time': {'web_dev': 8,\n",
       "  'data science master': 9,\n",
       "  'java with dsa and system design': 10}}"
      ]
     },
     "execution_count": 38,
     "metadata": {},
     "output_type": "execute_result"
    }
   ],
   "source": [
    "d6"
   ]
  },
  {
   "cell_type": "code",
   "execution_count": 39,
   "id": "80be9549-e945-476b-997a-c6dd6d19a1c3",
   "metadata": {},
   "outputs": [
    {
     "data": {
      "text/plain": [
       "{'web_dev': 8, 'data science master': 9, 'java with dsa and system design': 10}"
      ]
     },
     "execution_count": 39,
     "metadata": {},
     "output_type": "execute_result"
    }
   ],
   "source": [
    "d6[\"class_time\"]"
   ]
  },
  {
   "cell_type": "code",
   "execution_count": 40,
   "id": "e59afbf0-c80f-489b-86b9-9493623f625a",
   "metadata": {},
   "outputs": [
    {
     "data": {
      "text/plain": [
       "10"
      ]
     },
     "execution_count": 40,
     "metadata": {},
     "output_type": "execute_result"
    }
   ],
   "source": [
    "d6[\"class_time\"]['java with dsa and system design']"
   ]
  },
  {
   "cell_type": "code",
   "execution_count": 41,
   "id": "cf873d91-c996-485e-a3cc-fff6d4b65ce0",
   "metadata": {},
   "outputs": [
    {
     "data": {
      "text/plain": [
       "{'number': [2, 34, 3, 34, 34],\n",
       " 'assignment': (1, 2, 3, 4, 5, 6),\n",
       " 'launch_date': {12, 14, 28},\n",
       " 'class_time': {'web_dev': 8,\n",
       "  'data science master': 9,\n",
       "  'java with dsa and system design': 10}}"
      ]
     },
     "execution_count": 41,
     "metadata": {},
     "output_type": "execute_result"
    }
   ],
   "source": [
    "d6"
   ]
  },
  {
   "cell_type": "code",
   "execution_count": 44,
   "id": "030adf94-622d-47b8-bf51-b0084df75bb8",
   "metadata": {},
   "outputs": [],
   "source": [
    "d6[\"mentor\"] = [\"sudhanshu\",\"krish\",\"anurag\",\"hayder\"]"
   ]
  },
  {
   "cell_type": "code",
   "execution_count": 45,
   "id": "a69f772e-fec4-4c44-a411-0bb6da39baab",
   "metadata": {},
   "outputs": [
    {
     "data": {
      "text/plain": [
       "{'number': [2, 34, 3, 34, 34],\n",
       " 'assignment': (1, 2, 3, 4, 5, 6),\n",
       " 'launch_date': {12, 14, 28},\n",
       " 'class_time': {'web_dev': 8,\n",
       "  'data science master': 9,\n",
       "  'java with dsa and system design': 10},\n",
       " 'mentor': ['sudhanshu', 'krish', 'anurag', 'hayder']}"
      ]
     },
     "execution_count": 45,
     "metadata": {},
     "output_type": "execute_result"
    }
   ],
   "source": [
    "d6"
   ]
  },
  {
   "cell_type": "code",
   "execution_count": 46,
   "id": "f7a703aa-fcfe-4fc8-bbc9-6f645890188e",
   "metadata": {},
   "outputs": [],
   "source": [
    "del d6[\"number\"]"
   ]
  },
  {
   "cell_type": "code",
   "execution_count": 47,
   "id": "4ae2eadd-2637-4608-981c-cca299a8b5f1",
   "metadata": {},
   "outputs": [
    {
     "data": {
      "text/plain": [
       "{'assignment': (1, 2, 3, 4, 5, 6),\n",
       " 'launch_date': {12, 14, 28},\n",
       " 'class_time': {'web_dev': 8,\n",
       "  'data science master': 9,\n",
       "  'java with dsa and system design': 10},\n",
       " 'mentor': ['sudhanshu', 'krish', 'anurag', 'hayder']}"
      ]
     },
     "execution_count": 47,
     "metadata": {},
     "output_type": "execute_result"
    }
   ],
   "source": [
    "d6"
   ]
  },
  {
   "cell_type": "code",
   "execution_count": 49,
   "id": "a1c734ed-97cd-44ba-a1c6-662960dcaf8d",
   "metadata": {},
   "outputs": [
    {
     "data": {
      "text/plain": [
       "dict_keys(['assignment', 'launch_date', 'class_time', 'mentor'])"
      ]
     },
     "execution_count": 49,
     "metadata": {},
     "output_type": "execute_result"
    }
   ],
   "source": [
    "d6.keys()"
   ]
  },
  {
   "cell_type": "code",
   "execution_count": 50,
   "id": "b1e27b16-7236-4be4-931f-42f7868e5750",
   "metadata": {},
   "outputs": [
    {
     "data": {
      "text/plain": [
       "['assignment', 'launch_date', 'class_time', 'mentor']"
      ]
     },
     "execution_count": 50,
     "metadata": {},
     "output_type": "execute_result"
    }
   ],
   "source": [
    "list(d6.keys())"
   ]
  },
  {
   "cell_type": "code",
   "execution_count": 51,
   "id": "e6bff8b7-caa8-4f95-bfe4-b913830e7261",
   "metadata": {},
   "outputs": [
    {
     "data": {
      "text/plain": [
       "dict_values([(1, 2, 3, 4, 5, 6), {28, 12, 14}, {'web_dev': 8, 'data science master': 9, 'java with dsa and system design': 10}, ['sudhanshu', 'krish', 'anurag', 'hayder']])"
      ]
     },
     "execution_count": 51,
     "metadata": {},
     "output_type": "execute_result"
    }
   ],
   "source": [
    "d6.values()"
   ]
  },
  {
   "cell_type": "code",
   "execution_count": 52,
   "id": "d7cb286d-63c4-4020-a760-e73b21f7657a",
   "metadata": {},
   "outputs": [
    {
     "data": {
      "text/plain": [
       "[(1, 2, 3, 4, 5, 6),\n",
       " {12, 14, 28},\n",
       " {'web_dev': 8,\n",
       "  'data science master': 9,\n",
       "  'java with dsa and system design': 10},\n",
       " ['sudhanshu', 'krish', 'anurag', 'hayder']]"
      ]
     },
     "execution_count": 52,
     "metadata": {},
     "output_type": "execute_result"
    }
   ],
   "source": [
    "list(d6.values())"
   ]
  },
  {
   "cell_type": "code",
   "execution_count": 53,
   "id": "94f3adb3-0ff8-4acd-b05e-f0716a1fe423",
   "metadata": {},
   "outputs": [
    {
     "data": {
      "text/plain": [
       "dict_items([('assignment', (1, 2, 3, 4, 5, 6)), ('launch_date', {28, 12, 14}), ('class_time', {'web_dev': 8, 'data science master': 9, 'java with dsa and system design': 10}), ('mentor', ['sudhanshu', 'krish', 'anurag', 'hayder'])])"
      ]
     },
     "execution_count": 53,
     "metadata": {},
     "output_type": "execute_result"
    }
   ],
   "source": [
    "d6.items()"
   ]
  },
  {
   "cell_type": "code",
   "execution_count": 54,
   "id": "6faa5618-8294-4cf0-bc30-c371f31c4657",
   "metadata": {},
   "outputs": [
    {
     "data": {
      "text/plain": [
       "[('assignment', (1, 2, 3, 4, 5, 6)),\n",
       " ('launch_date', {12, 14, 28}),\n",
       " ('class_time',\n",
       "  {'web_dev': 8,\n",
       "   'data science master': 9,\n",
       "   'java with dsa and system design': 10}),\n",
       " ('mentor', ['sudhanshu', 'krish', 'anurag', 'hayder'])]"
      ]
     },
     "execution_count": 54,
     "metadata": {},
     "output_type": "execute_result"
    }
   ],
   "source": [
    "list(d6.items())"
   ]
  },
  {
   "cell_type": "code",
   "execution_count": 55,
   "id": "cd61a2df-65f8-45c0-a0ad-7f2ce10737d4",
   "metadata": {},
   "outputs": [
    {
     "data": {
      "text/plain": [
       "(1, 2, 3, 4, 5, 6)"
      ]
     },
     "execution_count": 55,
     "metadata": {},
     "output_type": "execute_result"
    }
   ],
   "source": [
    "d6.pop(\"assignment\")"
   ]
  },
  {
   "cell_type": "code",
   "execution_count": 56,
   "id": "c49052b5-eb99-446b-b89e-c9e14cd0e773",
   "metadata": {},
   "outputs": [
    {
     "data": {
      "text/plain": [
       "{'launch_date': {12, 14, 28},\n",
       " 'class_time': {'web_dev': 8,\n",
       "  'data science master': 9,\n",
       "  'java with dsa and system design': 10},\n",
       " 'mentor': ['sudhanshu', 'krish', 'anurag', 'hayder']}"
      ]
     },
     "execution_count": 56,
     "metadata": {},
     "output_type": "execute_result"
    }
   ],
   "source": [
    "d6"
   ]
  },
  {
   "cell_type": "code",
   "execution_count": 57,
   "id": "b413ebd6-c700-4891-b1ce-603a0b196338",
   "metadata": {},
   "outputs": [
    {
     "ename": "TypeError",
     "evalue": "pop expected at least 1 argument, got 0",
     "output_type": "error",
     "traceback": [
      "\u001b[0;31m---------------------------------------------------------------------------\u001b[0m",
      "\u001b[0;31mTypeError\u001b[0m                                 Traceback (most recent call last)",
      "Cell \u001b[0;32mIn[57], line 1\u001b[0m\n\u001b[0;32m----> 1\u001b[0m \u001b[43md6\u001b[49m\u001b[38;5;241;43m.\u001b[39;49m\u001b[43mpop\u001b[49m\u001b[43m(\u001b[49m\u001b[43m)\u001b[49m\n",
      "\u001b[0;31mTypeError\u001b[0m: pop expected at least 1 argument, got 0"
     ]
    }
   ],
   "source": [
    "d6.pop()  #no last value pop format "
   ]
  },
  {
   "cell_type": "code",
   "execution_count": 58,
   "id": "ef6c2645-ead8-445c-a123-d5ee89c04d6e",
   "metadata": {},
   "outputs": [],
   "source": [
    "#dict ==> mutable"
   ]
  },
  {
   "cell_type": "code",
   "execution_count": null,
   "id": "f0f969e8-8653-4661-8836-2ea1461d9d38",
   "metadata": {},
   "outputs": [],
   "source": []
  },
  {
   "cell_type": "code",
   "execution_count": 59,
   "id": "a640da52-0a23-4975-b962-a549dccbb731",
   "metadata": {},
   "outputs": [],
   "source": [
    "#conditional statement"
   ]
  },
  {
   "cell_type": "code",
   "execution_count": null,
   "id": "1a33d1e7-f5eb-4c50-87ac-70d4864fabb8",
   "metadata": {},
   "outputs": [],
   "source": []
  },
  {
   "cell_type": "code",
   "execution_count": 20,
   "id": "5afdc849-f322-431f-8f11-dcd7e935862f",
   "metadata": {},
   "outputs": [
    {
     "name": "stdin",
     "output_type": "stream",
     "text": [
      "enter your marks 87\n"
     ]
    },
    {
     "name": "stdout",
     "output_type": "stream",
     "text": [
      "you will be a part of A0 batch\n"
     ]
    }
   ],
   "source": [
    "marks = int(input(\"enter your marks\"))\n",
    "if marks >= 80 :\n",
    "    print(\"you will be a part of A0 batch\")\n",
    "elif marks >= 60 and marks < 80 :\n",
    "    print(\"you will be part of A1 batch\")\n",
    "elif marks >= 40 and marks < 60 :\n",
    "    print(\"you will be a part of A2 batch\")\n",
    "else:\n",
    "    print(\"you will be a part of A3 batch\")"
   ]
  },
  {
   "cell_type": "code",
   "execution_count": 6,
   "id": "077dac5d-4d9e-4526-86b2-ed4812d363a8",
   "metadata": {},
   "outputs": [
    {
     "name": "stdin",
     "output_type": "stream",
     "text": [
      "enter your marks 45\n"
     ]
    }
   ],
   "source": [
    "marks = input(\"enter your marks\")"
   ]
  },
  {
   "cell_type": "code",
   "execution_count": 7,
   "id": "0f5eaf06-148f-43df-ae12-50e25fc94e57",
   "metadata": {},
   "outputs": [
    {
     "data": {
      "text/plain": [
       "'45'"
      ]
     },
     "execution_count": 7,
     "metadata": {},
     "output_type": "execute_result"
    }
   ],
   "source": [
    "marks"
   ]
  },
  {
   "cell_type": "code",
   "execution_count": 8,
   "id": "a9afd528-f404-424d-9f09-1d444be70e99",
   "metadata": {},
   "outputs": [
    {
     "data": {
      "text/plain": [
       "str"
      ]
     },
     "execution_count": 8,
     "metadata": {},
     "output_type": "execute_result"
    }
   ],
   "source": [
    "type(marks)"
   ]
  },
  {
   "cell_type": "code",
   "execution_count": 15,
   "id": "70989f55-a84a-4577-ae9e-86d5f1fe4bac",
   "metadata": {},
   "outputs": [
    {
     "name": "stdout",
     "output_type": "stream",
     "text": [
      "hello\n"
     ]
    }
   ],
   "source": [
    "print(\"hello\")"
   ]
  },
  {
   "cell_type": "code",
   "execution_count": 16,
   "id": "0870a5de-db28-4930-ac84-863d82eff528",
   "metadata": {},
   "outputs": [
    {
     "data": {
      "text/plain": [
       "3"
      ]
     },
     "execution_count": 16,
     "metadata": {},
     "output_type": "execute_result"
    }
   ],
   "source": [
    "3"
   ]
  },
  {
   "cell_type": "code",
   "execution_count": 17,
   "id": "b527212b-9603-4cd2-ac89-e19c91840e82",
   "metadata": {},
   "outputs": [
    {
     "name": "stdin",
     "output_type": "stream",
     "text": [
      "enter the price 500\n"
     ]
    },
    {
     "name": "stdout",
     "output_type": "stream",
     "text": [
      "I will purchase\n"
     ]
    }
   ],
   "source": [
    "price =int(input(\"enter the price\"))\n",
    "if price > 1000 :\n",
    "    print(\"I will not purchase\")\n",
    "else:\n",
    "    print(\"I will purchase\")"
   ]
  },
  {
   "cell_type": "code",
   "execution_count": 3,
   "id": "fa96ecc3-369a-4f4a-bf49-61aefc8f2092",
   "metadata": {},
   "outputs": [
    {
     "name": "stdin",
     "output_type": "stream",
     "text": [
      "enter the price 1000\n"
     ]
    },
    {
     "name": "stdout",
     "output_type": "stream",
     "text": [
      "not interested\n"
     ]
    }
   ],
   "source": [
    "price =int(input(\"enter the price\"))\n",
    "if price > 1000 :\n",
    "    print(\"I will not purchase\")\n",
    "    if price >5000:\n",
    "        print(\"this is too much\")\n",
    "    elif price < 2000:\n",
    "        print(\"its ok\")\n",
    "elif price <1000 :\n",
    "    print(\"I will purchase\")\n",
    "else:\n",
    "    print(\"not interested\")"
   ]
  },
  {
   "cell_type": "code",
   "execution_count": null,
   "id": "41ef35b6-8a18-47bd-8aa1-5751c1b1f71f",
   "metadata": {},
   "outputs": [],
   "source": []
  },
  {
   "cell_type": "code",
   "execution_count": 4,
   "id": "0cce201f-6c7c-4a7f-a653-6babb64a346a",
   "metadata": {},
   "outputs": [],
   "source": [
    "#loop"
   ]
  },
  {
   "cell_type": "code",
   "execution_count": null,
   "id": "3eb30898-5973-4463-b725-c5abe01e5cb4",
   "metadata": {},
   "outputs": [],
   "source": []
  },
  {
   "cell_type": "code",
   "execution_count": 5,
   "id": "dcb0358e-4d45-4866-84be-f92b3e8e73d6",
   "metadata": {},
   "outputs": [],
   "source": [
    "l=[1,2,3,4,5,6,7,8]"
   ]
  },
  {
   "cell_type": "code",
   "execution_count": 6,
   "id": "3f3a2b6c-442a-45ae-aa80-7fe5b94f03b7",
   "metadata": {},
   "outputs": [
    {
     "data": {
      "text/plain": [
       "2"
      ]
     },
     "execution_count": 6,
     "metadata": {},
     "output_type": "execute_result"
    }
   ],
   "source": [
    "l[0] + 1"
   ]
  },
  {
   "cell_type": "code",
   "execution_count": 12,
   "id": "9da5907b-6a0c-48c8-b6f5-2b02daab883b",
   "metadata": {},
   "outputs": [],
   "source": [
    "l1=[]"
   ]
  },
  {
   "cell_type": "code",
   "execution_count": 13,
   "id": "db4427cd-9cb9-4b43-9bf6-0526c14d7728",
   "metadata": {},
   "outputs": [],
   "source": [
    "l1.append(l[0]+1)"
   ]
  },
  {
   "cell_type": "code",
   "execution_count": 14,
   "id": "11b114ee-13ac-4fb2-9944-7f68337d627c",
   "metadata": {},
   "outputs": [
    {
     "data": {
      "text/plain": [
       "[2]"
      ]
     },
     "execution_count": 14,
     "metadata": {},
     "output_type": "execute_result"
    }
   ],
   "source": [
    "l1"
   ]
  },
  {
   "cell_type": "code",
   "execution_count": 26,
   "id": "6ae9041e-1b97-4614-9d86-c30ff3ef96a2",
   "metadata": {},
   "outputs": [],
   "source": [
    "l=[111,2,3,4,5,6,7,8]"
   ]
  },
  {
   "cell_type": "code",
   "execution_count": 33,
   "id": "5d8e61be-1ac7-43fb-a1fc-b267ae1dbd14",
   "metadata": {},
   "outputs": [
    {
     "name": "stdout",
     "output_type": "stream",
     "text": [
      "112\n",
      "3\n",
      "4\n",
      "5\n",
      "6\n",
      "7\n",
      "8\n",
      "9\n"
     ]
    },
    {
     "data": {
      "text/plain": [
       "[112, 3, 4, 5, 6, 7, 8, 9]"
      ]
     },
     "execution_count": 33,
     "metadata": {},
     "output_type": "execute_result"
    }
   ],
   "source": [
    "l1=[]\n",
    "for i in l :\n",
    "    print(i+1)\n",
    "    l1.append(i+1)\n",
    "l1"
   ]
  },
  {
   "cell_type": "code",
   "execution_count": 13,
   "id": "f0e2b010-93ab-44a0-8902-50267f9789aa",
   "metadata": {},
   "outputs": [],
   "source": [
    "l=[\"sudh\",\"kumar\",\"pwskills\",\"course\",\"navneet singh\"]"
   ]
  },
  {
   "cell_type": "code",
   "execution_count": 14,
   "id": "06f12e86-3ad8-4e72-b202-90ec05be9fb1",
   "metadata": {},
   "outputs": [
    {
     "name": "stdout",
     "output_type": "stream",
     "text": [
      "sudh\n",
      "kumar\n",
      "pwskills\n",
      "course\n",
      "navneet singh\n"
     ]
    }
   ],
   "source": [
    "l1=[]\n",
    "l2=[]\n",
    "l3=[]\n",
    "for i in l:\n",
    "    print(i)\n",
    "    l1.append(i.upper())\n",
    "    l2.append(i.capitalize())\n",
    "    l3.append(i.title())"
   ]
  },
  {
   "cell_type": "code",
   "execution_count": 15,
   "id": "d74abd5c-97be-4c53-a8cf-7834d373d899",
   "metadata": {},
   "outputs": [
    {
     "data": {
      "text/plain": [
       "['SUDH', 'KUMAR', 'PWSKILLS', 'COURSE', 'NAVNEET SINGH']"
      ]
     },
     "execution_count": 15,
     "metadata": {},
     "output_type": "execute_result"
    }
   ],
   "source": [
    "l1"
   ]
  },
  {
   "cell_type": "code",
   "execution_count": 16,
   "id": "d7533b9c-1243-4143-a2d7-924d795b369d",
   "metadata": {},
   "outputs": [
    {
     "data": {
      "text/plain": [
       "['Sudh', 'Kumar', 'Pwskills', 'Course', 'Navneet singh']"
      ]
     },
     "execution_count": 16,
     "metadata": {},
     "output_type": "execute_result"
    }
   ],
   "source": [
    "l2"
   ]
  },
  {
   "cell_type": "code",
   "execution_count": 17,
   "id": "13ebb7c3-e418-4855-bea5-1fe3c6910807",
   "metadata": {},
   "outputs": [
    {
     "data": {
      "text/plain": [
       "['Sudh', 'Kumar', 'Pwskills', 'Course', 'Navneet Singh']"
      ]
     },
     "execution_count": 17,
     "metadata": {},
     "output_type": "execute_result"
    }
   ],
   "source": [
    "l3"
   ]
  },
  {
   "cell_type": "code",
   "execution_count": 18,
   "id": "2702f085-70bf-4a70-a0ce-f9357482144d",
   "metadata": {},
   "outputs": [],
   "source": [
    "l=[1,2,3,4,4,\"sudh\",\"kumar\",324,34.456,\"abc\"]"
   ]
  },
  {
   "cell_type": "code",
   "execution_count": 20,
   "id": "8034bee6-2fac-4a37-99f7-4b3855f47c5b",
   "metadata": {},
   "outputs": [],
   "source": [
    "l1_num=[]\n",
    "l2_str=[]\n",
    "for i in l:\n",
    "    if type(i)== int or type(i)== float :\n",
    "        l1_num.append(i)\n",
    "    else:\n",
    "        l2_str.append(i)\n",
    "    "
   ]
  },
  {
   "cell_type": "code",
   "execution_count": 21,
   "id": "565d24fb-5da3-4c0e-9304-38db876607dd",
   "metadata": {},
   "outputs": [
    {
     "data": {
      "text/plain": [
       "[1, 2, 3, 4, 4, 324, 34.456]"
      ]
     },
     "execution_count": 21,
     "metadata": {},
     "output_type": "execute_result"
    }
   ],
   "source": [
    "l1_num"
   ]
  },
  {
   "cell_type": "code",
   "execution_count": 22,
   "id": "f9cc3a01-d4af-4826-8fdd-a1b5875f5da6",
   "metadata": {},
   "outputs": [
    {
     "data": {
      "text/plain": [
       "['sudh', 'kumar', 'abc']"
      ]
     },
     "execution_count": 22,
     "metadata": {},
     "output_type": "execute_result"
    }
   ],
   "source": [
    "l2_str"
   ]
  },
  {
   "cell_type": "code",
   "execution_count": 18,
   "id": "0cc25d45-0535-4ce5-8650-7cabf8197a0d",
   "metadata": {},
   "outputs": [],
   "source": [
    "t=(True)\n"
   ]
  },
  {
   "cell_type": "code",
   "execution_count": 19,
   "id": "a6e224f2-8927-4128-b85b-001eb8a8ea4c",
   "metadata": {},
   "outputs": [
    {
     "ename": "AttributeError",
     "evalue": "'bool' object has no attribute 'count'",
     "output_type": "error",
     "traceback": [
      "\u001b[0;31m---------------------------------------------------------------------------\u001b[0m",
      "\u001b[0;31mAttributeError\u001b[0m                            Traceback (most recent call last)",
      "Cell \u001b[0;32mIn[19], line 1\u001b[0m\n\u001b[0;32m----> 1\u001b[0m \u001b[43mt\u001b[49m\u001b[38;5;241;43m.\u001b[39;49m\u001b[43mcount\u001b[49m(\u001b[38;5;28;01mTrue\u001b[39;00m)\n",
      "\u001b[0;31mAttributeError\u001b[0m: 'bool' object has no attribute 'count'"
     ]
    }
   ],
   "source": [
    "t.count(True)"
   ]
  },
  {
   "cell_type": "code",
   "execution_count": 12,
   "id": "8a625342-ea60-4ecd-87a0-43e7b1f6ff2e",
   "metadata": {},
   "outputs": [
    {
     "ename": "TypeError",
     "evalue": "object of type 'bool' has no len()",
     "output_type": "error",
     "traceback": [
      "\u001b[0;31m---------------------------------------------------------------------------\u001b[0m",
      "\u001b[0;31mTypeError\u001b[0m                                 Traceback (most recent call last)",
      "Cell \u001b[0;32mIn[12], line 1\u001b[0m\n\u001b[0;32m----> 1\u001b[0m \u001b[38;5;28;43mlen\u001b[39;49m\u001b[43m(\u001b[49m\u001b[43mt\u001b[49m\u001b[43m)\u001b[49m\n",
      "\u001b[0;31mTypeError\u001b[0m: object of type 'bool' has no len()"
     ]
    }
   ],
   "source": [
    "len(t)"
   ]
  },
  {
   "cell_type": "code",
   "execution_count": 13,
   "id": "841107c1-06f3-49ab-b433-9a4f67ef3152",
   "metadata": {},
   "outputs": [],
   "source": [
    "t=(True,False)"
   ]
  },
  {
   "cell_type": "code",
   "execution_count": 14,
   "id": "38c83de2-cf28-4d7b-9df4-b5569e8cd37a",
   "metadata": {},
   "outputs": [
    {
     "data": {
      "text/plain": [
       "2"
      ]
     },
     "execution_count": 14,
     "metadata": {},
     "output_type": "execute_result"
    }
   ],
   "source": [
    "len(t)"
   ]
  },
  {
   "cell_type": "code",
   "execution_count": 3,
   "id": "543d4917-ccdd-4415-b13b-8dd1aa33e2be",
   "metadata": {},
   "outputs": [],
   "source": [
    "t=(True,4,5,6)"
   ]
  },
  {
   "cell_type": "code",
   "execution_count": 4,
   "id": "86d7ba6a-020c-4916-af22-09f8d9ced8b7",
   "metadata": {},
   "outputs": [
    {
     "data": {
      "text/plain": [
       "4"
      ]
     },
     "execution_count": 4,
     "metadata": {},
     "output_type": "execute_result"
    }
   ],
   "source": [
    "len(t)"
   ]
  },
  {
   "cell_type": "code",
   "execution_count": 15,
   "id": "56bcd787-90fb-43d2-90b3-229f293f2365",
   "metadata": {},
   "outputs": [],
   "source": [
    "t=(True,4,5,6,True)"
   ]
  },
  {
   "cell_type": "code",
   "execution_count": 16,
   "id": "40a920b0-8ea9-4934-ac72-be3bd613a6eb",
   "metadata": {},
   "outputs": [
    {
     "data": {
      "text/plain": [
       "5"
      ]
     },
     "execution_count": 16,
     "metadata": {},
     "output_type": "execute_result"
    }
   ],
   "source": [
    "len(t)"
   ]
  },
  {
   "cell_type": "code",
   "execution_count": 17,
   "id": "a59e33b7-09ca-4d84-a853-29cb1ff8f2b0",
   "metadata": {},
   "outputs": [
    {
     "data": {
      "text/plain": [
       "2"
      ]
     },
     "execution_count": 17,
     "metadata": {},
     "output_type": "execute_result"
    }
   ],
   "source": [
    "t.count(True)"
   ]
  },
  {
   "cell_type": "code",
   "execution_count": 7,
   "id": "083df63e-8424-4305-8f5f-6d936375816c",
   "metadata": {},
   "outputs": [],
   "source": [
    "s2=(1,4,7.7,\"class\",True)"
   ]
  },
  {
   "cell_type": "code",
   "execution_count": 8,
   "id": "ebfd6d70-862d-4788-a8e8-88a50296e50b",
   "metadata": {},
   "outputs": [
    {
     "data": {
      "text/plain": [
       "2"
      ]
     },
     "execution_count": 8,
     "metadata": {},
     "output_type": "execute_result"
    }
   ],
   "source": [
    "s2.count(True)   #here 1 is treated as \"True\""
   ]
  },
  {
   "cell_type": "code",
   "execution_count": 20,
   "id": "eb904ad7-382d-49fb-b3e1-da1b3b78280a",
   "metadata": {},
   "outputs": [],
   "source": [
    "d={\"a\":45 , \"b\":36 , \"c\":\"Navneet Singh\"}"
   ]
  },
  {
   "cell_type": "code",
   "execution_count": 21,
   "id": "b90bb9de-f23c-44c0-824e-4e4f3aa398e1",
   "metadata": {},
   "outputs": [
    {
     "data": {
      "text/plain": [
       "{'a': 45, 'b': 36, 'c': 'Navneet Singh'}"
      ]
     },
     "execution_count": 21,
     "metadata": {},
     "output_type": "execute_result"
    }
   ],
   "source": [
    "d"
   ]
  },
  {
   "cell_type": "code",
   "execution_count": 30,
   "id": "5cb64146-7c29-4e65-97da-e0d973c27042",
   "metadata": {},
   "outputs": [
    {
     "name": "stdout",
     "output_type": "stream",
     "text": [
      "keys ['a', 'b', 'c'] \n",
      "values [45, 36, 'Navneet Singh']\n"
     ]
    }
   ],
   "source": [
    "keys = []\n",
    "values = []\n",
    "for i in d.items() :\n",
    "    keys.append(i[0])\n",
    "    values.append(i[1])\n",
    "print(\"keys\",keys,\"\\nvalues\",values)"
   ]
  },
  {
   "cell_type": "code",
   "execution_count": 31,
   "id": "eee121e5-6cd8-4eb6-97f5-c29b413e28d6",
   "metadata": {},
   "outputs": [
    {
     "data": {
      "text/plain": [
       "{'a': 45, 'b': 36, 'c': 'Navneet Singh'}"
      ]
     },
     "execution_count": 31,
     "metadata": {},
     "output_type": "execute_result"
    }
   ],
   "source": [
    "d"
   ]
  },
  {
   "cell_type": "code",
   "execution_count": 32,
   "id": "cb6a8463-33c3-4815-be39-0a02ed263f04",
   "metadata": {},
   "outputs": [
    {
     "data": {
      "text/plain": [
       "{45: None, 53: None, 36: None}"
      ]
     },
     "execution_count": 32,
     "metadata": {},
     "output_type": "execute_result"
    }
   ],
   "source": [
    "d.fromkeys([45,53,36])"
   ]
  },
  {
   "cell_type": "code",
   "execution_count": null,
   "id": "cfa240d1-597d-413a-8a9b-996f34bfb910",
   "metadata": {},
   "outputs": [],
   "source": []
  }
 ],
 "metadata": {
  "kernelspec": {
   "display_name": "Python 3 (ipykernel)",
   "language": "python",
   "name": "python3"
  },
  "language_info": {
   "codemirror_mode": {
    "name": "ipython",
    "version": 3
   },
   "file_extension": ".py",
   "mimetype": "text/x-python",
   "name": "python",
   "nbconvert_exporter": "python",
   "pygments_lexer": "ipython3",
   "version": "3.10.8"
  }
 },
 "nbformat": 4,
 "nbformat_minor": 5
}
